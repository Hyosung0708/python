{
 "cells": [
  {
   "cell_type": "markdown",
   "id": "d9025a62-160e-4342-a27c-05d9ea2c9491",
   "metadata": {},
   "source": [
    "# 함수 (function)"
   ]
  },
  {
   "cell_type": "code",
   "execution_count": 1,
   "id": "19a147e3-17de-4c15-987b-bf70f60d1eae",
   "metadata": {},
   "outputs": [
    {
     "name": "stdout",
     "output_type": "stream",
     "text": [
      "직사각형의 둘레는 60, 면적은 200입니다.\n",
      "직사각형의 둘레는 260, 면적은 4000입니다.\n"
     ]
    }
   ],
   "source": [
    "height = 10\n",
    "width = 20\n",
    "\n",
    "height2 = 50\n",
    "width2 = 80\n",
    "\n",
    "# 직사각형의 둘레는 ***, 면적은 *** 입니다.\n",
    "\n",
    "area = height * width\n",
    "perimeter = (height + width) * 2\n",
    "print(f'직사각형의 둘레는 {perimeter}, 면적은 {area}입니다.')\n",
    "\n",
    "\n",
    "area = height2 * width2\n",
    "perimeter = (height2 + width2) * 2\n",
    "print(f'직사각형의 둘레는 {perimeter}, 면적은 {area}입니다.')"
   ]
  },
  {
   "cell_type": "markdown",
   "id": "79da462e-128f-40fe-9b40-35c428124a43",
   "metadata": {},
   "source": [
    "## 함수의 선언과 호출\n",
    "\n",
    "```python\n",
    "- 함수의 선언\n",
    "\n",
    "def func_name(parameter1, parameter2...):\n",
    "    code1\n",
    "    code2\n",
    "    ...\n",
    "    return value\n",
    "\n",
    "- 함수의 호출(실행)\n",
    "\n",
    "    func_name(parameter1, parameter2)\n",
    "    \n",
    "```"
   ]
  },
  {
   "cell_type": "code",
   "execution_count": 2,
   "id": "82158631-e9a4-4b21-bd8a-99537da6a475",
   "metadata": {},
   "outputs": [],
   "source": [
    "def rectangle(height, width):\n",
    "    area = height * width\n",
    "    perimeter = (height + width) * 2\n",
    "    print(f'직사각형의 둘레는 {perimeter}, 면적은 {area}입니다.')"
   ]
  },
  {
   "cell_type": "code",
   "execution_count": 3,
   "id": "03397a06-6563-42ec-a114-ec82a1a7d76a",
   "metadata": {},
   "outputs": [
    {
     "name": "stdout",
     "output_type": "stream",
     "text": [
      "직사각형의 둘레는 60, 면적은 200입니다.\n"
     ]
    }
   ],
   "source": [
    "rectangle(10, 20)"
   ]
  },
  {
   "cell_type": "code",
   "execution_count": 4,
   "id": "f1cca079-4ca4-44f6-9938-050246abfda9",
   "metadata": {},
   "outputs": [
    {
     "data": {
      "text/plain": [
       "5"
      ]
     },
     "execution_count": 4,
     "metadata": {},
     "output_type": "execute_result"
    }
   ],
   "source": [
    "max(1, 5)"
   ]
  },
  {
   "cell_type": "code",
   "execution_count": 5,
   "id": "0ad73599-45f0-45ef-ae4f-975df4fb5859",
   "metadata": {},
   "outputs": [],
   "source": [
    "# 두개의 정수를 받아서 큰수를 반환\n",
    "def my_max(num1, num2):\n",
    "    if num1 > num2:\n",
    "        # 1이 더 큰경우\n",
    "        print(f'{num1}이 더 큽니다.')\n",
    "    elif num1 < num2:\n",
    "        # 2가 더 큰 경우\n",
    "        print(f'{num}가 더 큽니다.')\n",
    "    else:\n",
    "        print('두 수가 같습니다.')"
   ]
  },
  {
   "cell_type": "code",
   "execution_count": 6,
   "id": "74a55863-f708-4aaf-a1f5-bebb99a183eb",
   "metadata": {},
   "outputs": [
    {
     "name": "stdout",
     "output_type": "stream",
     "text": [
      "두 수가 같습니다.\n"
     ]
    }
   ],
   "source": [
    "my_max(10, 10)"
   ]
  },
  {
   "cell_type": "markdown",
   "id": "e215def6-8e8a-4b84-be62-e7cbf83b796d",
   "metadata": {},
   "source": [
    "## 함수의 return\n",
    "\n",
    " - 함수가 return을 만나면 해당 값을 반환하고 함수를 종료\n",
    " - 만약 return이 없다면 None을 자동으로 반환\n",
    " - returm은 오직 하나의 객체만 반환합니다."
   ]
  },
  {
   "cell_type": "code",
   "execution_count": 19,
   "id": "58ae2920-9cce-477f-8ecc-5cb4243b2d57",
   "metadata": {},
   "outputs": [],
   "source": [
    "# 두개의 정수를 받아서 큰수를 반환\n",
    "\n",
    "def my_max2(num1, num2):\n",
    "\n",
    "    #return 'hello'\n",
    "    \n",
    "    if num1 > num2:\n",
    "        return num1\n",
    "    elif num1 <num2:\n",
    "        return num2\n",
    "    else:\n",
    "        return 0"
   ]
  },
  {
   "cell_type": "code",
   "execution_count": 20,
   "id": "cec0c2ae-0ccd-4784-8dc8-0f0318da9ecc",
   "metadata": {},
   "outputs": [
    {
     "name": "stdout",
     "output_type": "stream",
     "text": [
      "2가 더 큽니다.\n"
     ]
    }
   ],
   "source": [
    "result = my_max2(1, 2)\n",
    "print(f'{result}가 더 큽니다.')"
   ]
  },
  {
   "cell_type": "code",
   "execution_count": 7,
   "id": "1b6f7384-ef0d-437a-b062-9fa9c825c04e",
   "metadata": {},
   "outputs": [],
   "source": [
    "def my_list_max(list_a, list_b):\n",
    "    if sum(list_a) > sum(list_b):\n",
    "        return list_a\n",
    "    else:\n",
    "        return list_b"
   ]
  },
  {
   "cell_type": "code",
   "execution_count": 8,
   "id": "ad9a9f43-19ce-4fad-84a5-15085bf3e938",
   "metadata": {},
   "outputs": [
    {
     "data": {
      "text/plain": [
       "[11, 12]"
      ]
     },
     "execution_count": 8,
     "metadata": {},
     "output_type": "execute_result"
    }
   ],
   "source": [
    "my_list_max([10, 11], [11, 12])"
   ]
  },
  {
   "cell_type": "markdown",
   "id": "afe90cdf-efa3-4069-9647-ec376eb26c97",
   "metadata": {},
   "source": [
    "# 07. 27 까지\n",
    "\n",
    "\n",
    "\n",
    "-"
   ]
  },
  {
   "cell_type": "markdown",
   "id": "1467fa5a-352f-4cd5-83e8-db22c99e84f6",
   "metadata": {},
   "source": [
    "# 함수의 인수\n",
    "\n",
    "## 위치 인수\n",
    "\n",
    "기본적으로 함수는 인수의 위치로 판단합니다.\n"
   ]
  },
  {
   "cell_type": "code",
   "execution_count": 3,
   "id": "fd7ed9d6-aac7-4152-8c6e-b7aee6b19dff",
   "metadata": {},
   "outputs": [
    {
     "name": "stdout",
     "output_type": "stream",
     "text": [
      "1570.0\n",
      "785.0\n"
     ]
    }
   ],
   "source": [
    "def cylinder(r, h):\n",
    "    return 3.14 * r**2 * h\n",
    "\n",
    "print(cylinder(10, 5))\n",
    "print(cylinder(5, 10))"
   ]
  },
  {
   "cell_type": "markdown",
   "id": "31d8e18f-6ce5-4a02-8c0d-43b58f17eabd",
   "metadata": {},
   "source": [
    "## 기본값\n",
    "\n",
    "```\n",
    "def func(p1=v1):\n",
    "    return v1\n",
    "```"
   ]
  },
  {
   "cell_type": "code",
   "execution_count": 11,
   "id": "3878a5d1-6ca9-4390-8eb9-f83b4ebcce83",
   "metadata": {},
   "outputs": [
    {
     "name": "stdout",
     "output_type": "stream",
     "text": [
      "창희님 반갑습니다.\n",
      "익명님 반갑습니다.\n"
     ]
    }
   ],
   "source": [
    "def greeting(name='익명'):\n",
    "    return f'{name}님 반갑습니다.'\n",
    "\n",
    "print(greeting('창희'))\n",
    "print(greeting())"
   ]
  },
  {
   "cell_type": "code",
   "execution_count": 14,
   "id": "8cd1655a-4cff-4a6d-9531-d86990660273",
   "metadata": {},
   "outputs": [
    {
     "name": "stdout",
     "output_type": "stream",
     "text": [
      "홍길동님은 10살 입니다.\n",
      "익명님은 ?살 입니다.\n"
     ]
    }
   ],
   "source": [
    "def greeting(age='?', name='익명'):\n",
    "    return f'{name}님은 {age}살 입니다.'\n",
    "\n",
    "print(greeting(10, '홍길동'))\n",
    "print(greeting())"
   ]
  },
  {
   "cell_type": "markdown",
   "id": "f6f7449a-37ca-4485-b48f-ab9c6bd5fcae",
   "metadata": {},
   "source": [
    "## 키워드 인자\n",
    "\n",
    "함수를 호출(실행)할 때 내가 원하는 위치에 직접적으로 특정인자를 전달가능"
   ]
  },
  {
   "cell_type": "code",
   "execution_count": 16,
   "id": "9e2b2120-c415-49a7-ba5c-948f2902682e",
   "metadata": {},
   "outputs": [
    {
     "name": "stdout",
     "output_type": "stream",
     "text": [
      "홍길동님은 10살 입니다.\n",
      "test님은 ?살 입니다.\n"
     ]
    }
   ],
   "source": [
    "def greeting(age='?', name='익명'):\n",
    "    return f'{name}님은 {age}살 입니다.'\n",
    "\n",
    "print(greeting(10, '홍길동'))\n",
    "print(greeting(name='test', age='?'))"
   ]
  },
  {
   "cell_type": "markdown",
   "id": "888cacc8-ff51-48e5-a2e4-35231b7aa711",
   "metadata": {},
   "source": [
    "## 가변 인자 리스트\n",
    "\n",
    "```\n",
    "def func(*params):\n",
    "    pass"
   ]
  },
  {
   "cell_type": "code",
   "execution_count": 18,
   "id": "fab1a961-3d6f-454f-8393-4069ced30f2b",
   "metadata": {},
   "outputs": [
    {
     "name": "stdout",
     "output_type": "stream",
     "text": [
      "('hi', 'hello', '안녕', '하세요')\n",
      "<class 'tuple'>\n"
     ]
    }
   ],
   "source": [
    "def my_print(*words):\n",
    "    print(words)\n",
    "    print(type(words))\n",
    "\n",
    "my_print('hi', 'hello', '안녕', '하세요')"
   ]
  },
  {
   "cell_type": "code",
   "execution_count": 23,
   "id": "cb3de6ca-36d8-4bd5-82d1-646339ab49e5",
   "metadata": {},
   "outputs": [
    {
     "data": {
      "text/plain": [
       "5"
      ]
     },
     "execution_count": 23,
     "metadata": {},
     "output_type": "execute_result"
    }
   ],
   "source": [
    "def my_max(*nums):\n",
    "    tmp=list(nums)\n",
    "    tmp.sort()\n",
    "    return tmp[-1]\n",
    "\n",
    "my_max(1, 2, 3, 4, 5)"
   ]
  },
  {
   "cell_type": "code",
   "execution_count": 32,
   "id": "e1404880-d468-4704-af1e-4ff884a22b11",
   "metadata": {},
   "outputs": [],
   "source": [
    "def my_max(*numbers):\n",
    "    result = numbers[0]\n",
    "\n",
    "    for number in numbers:\n",
    "        if result < number:\n",
    "            result = number\n",
    "\n",
    "        return result"
   ]
  },
  {
   "cell_type": "code",
   "execution_count": 33,
   "id": "d57cbcb1-c855-4016-908f-0a3addfd095c",
   "metadata": {},
   "outputs": [
    {
     "name": "stdout",
     "output_type": "stream",
     "text": [
      "1\n",
      "-1\n"
     ]
    }
   ],
   "source": [
    "print(my_max(1, 2, 3, 4, 5))\n",
    "print(my_max(-1, -2, -3, -4))"
   ]
  },
  {
   "cell_type": "markdown",
   "id": "7f7228d9-be25-4e32-9956-97ccc604d1b1",
   "metadata": {},
   "source": [
    "### 정의되지 않은 키워드 인자 처리하기\n",
    "\n",
    "```python\n",
    "\n",
    "def func(**kwargs):\n",
    "    pass"
   ]
  },
  {
   "cell_type": "code",
   "execution_count": 34,
   "id": "c774a51a-66f6-4a3d-9838-98894073095c",
   "metadata": {},
   "outputs": [
    {
     "name": "stdout",
     "output_type": "stream",
     "text": [
      "{'name': 'shin', 'age': 23}\n"
     ]
    }
   ],
   "source": [
    "info = {\n",
    "    'name': 'shin',\n",
    "    'age': 23,\n",
    "}\n",
    "print(info)"
   ]
  },
  {
   "cell_type": "code",
   "execution_count": 35,
   "id": "75a05521-01ac-44e0-b8f3-46c3e942a755",
   "metadata": {},
   "outputs": [
    {
     "name": "stdout",
     "output_type": "stream",
     "text": [
      "{'name': 'shin', 'age': 33}\n"
     ]
    }
   ],
   "source": [
    "info = dict(name='shin', age=33)\n",
    "print(info)"
   ]
  },
  {
   "cell_type": "code",
   "execution_count": 36,
   "id": "a09b96fe-aa03-4aba-a53a-7d2e0aeae4e8",
   "metadata": {},
   "outputs": [
    {
     "name": "stdout",
     "output_type": "stream",
     "text": [
      "{'korean': '안녕', 'english': 'hi'}\n",
      "<class 'dict'>\n"
     ]
    }
   ],
   "source": [
    "def fake_dict(**kwargs):\n",
    "    print(kwargs)\n",
    "    print(type(kwargs))\n",
    "\n",
    "fake_dict(korean='안녕', english='hi')"
   ]
  },
  {
   "cell_type": "markdown",
   "id": "fabea194-449c-4ce4-ac79-a959070b64e8",
   "metadata": {},
   "source": [
    "## 딕셔너리를 인자로 넣기(unpacking)"
   ]
  },
  {
   "cell_type": "code",
   "execution_count": 39,
   "id": "098e67e3-b59c-4115-af1b-7b690b92b587",
   "metadata": {},
   "outputs": [
    {
     "name": "stdout",
     "output_type": "stream",
     "text": [
      "비밀번호가 일치하지 않습니다.\n"
     ]
    }
   ],
   "source": [
    "def sign_up(username, password, password_confirmation):\n",
    "    if password == password_confirmation:\n",
    "        print(f'{username}님 회원가입이 완료되었습니니다.')\n",
    "    else:\n",
    "        print(f'비밀번호가 일치하지 않습니다.')\n",
    "\n",
    "sign_up('shin', '212', '234')"
   ]
  },
  {
   "cell_type": "markdown",
   "id": "2b303e0d-2eca-4c8a-b735-721b40c17423",
   "metadata": {},
   "source": [
    "## lambda 표현식\n",
    "\n",
    "```python\n",
    "\n",
    "    lambda parameter: expression"
   ]
  },
  {
   "cell_type": "code",
   "execution_count": 40,
   "id": "1e63d1f8-6079-441b-bb78-34d9ba1c1d6c",
   "metadata": {},
   "outputs": [
    {
     "data": {
      "text/plain": [
       "3"
      ]
     },
     "execution_count": 40,
     "metadata": {},
     "output_type": "execute_result"
    }
   ],
   "source": [
    "(lambda a, b: a + b)(1, 2)"
   ]
  },
  {
   "cell_type": "code",
   "execution_count": 41,
   "id": "3d42ca42-cbe3-4cc2-bfde-976f9839667f",
   "metadata": {},
   "outputs": [
    {
     "data": {
      "text/plain": [
       "3"
      ]
     },
     "execution_count": 41,
     "metadata": {},
     "output_type": "execute_result"
    }
   ],
   "source": [
    "def my_sum(a, b):\n",
    "    return a + b\n",
    "\n",
    "my_sum(1, 2)"
   ]
  },
  {
   "cell_type": "markdown",
   "id": "36f858e1-2075-4ee2-aef4-cf8543dc4980",
   "metadata": {},
   "source": [
    "### 이름공간 (scope)\n",
    "\n",
    "파이썬에서 사용되는 이름들은 이름공간(namespace)에 저장되어 있습니다.\n",
    "\n",
    "- Local scope : 정의된 함수 내부\n",
    "- Enclosed scope : 상위 함수\n",
    "- global scope : 함수 밖의 변수 혹은 import된 모듈\n",
    "- Built-in scope : 파이썬이 기본적으로 가지고 있는 함수 혹은 변수\n",
    "\n",
    "앞글자만 따서 L E G B 룰이라고 표현함"
   ]
  },
  {
   "cell_type": "code",
   "execution_count": 1,
   "id": "027570c0-ec75-49c0-8f7f-617163342731",
   "metadata": {},
   "outputs": [],
   "source": [
    "str = '123'"
   ]
  },
  {
   "cell_type": "code",
   "execution_count": 45,
   "id": "960bcb50-1f1f-45ca-a034-a9b3a85b3b75",
   "metadata": {},
   "outputs": [
    {
     "name": "stdout",
     "output_type": "stream",
     "text": [
      "5\n"
     ]
    }
   ],
   "source": [
    "a = 1\n",
    "def localscope(a):\n",
    "    print(a)\n",
    "\n",
    "localscope(5)\n",
    "\n",
    "# 본인과 가까운 쪽과 먼저 실행함."
   ]
  },
  {
   "cell_type": "code",
   "execution_count": 47,
   "id": "a4e85167-d3d5-4394-8918-08e6b30042e0",
   "metadata": {},
   "outputs": [
    {
     "name": "stdout",
     "output_type": "stream",
     "text": [
      "20\n",
      "20\n"
     ]
    }
   ],
   "source": [
    "num = 10\n",
    "def scope():\n",
    "    global num\n",
    "    num = 20\n",
    "    print(num)\n",
    "\n",
    "scope()\n",
    "print(num)"
   ]
  },
  {
   "cell_type": "markdown",
   "id": "036d36c4-9964-4883-ae26-8b8412c9d87c",
   "metadata": {},
   "source": [
    "## 재귀 (recursive)\n",
    "\n",
    "재귀 함수는 함수 내부에서 자기 자신을 호출하는 함수를 의미한다."
   ]
  },
  {
   "cell_type": "code",
   "execution_count": 4,
   "id": "798810ad-cdd9-4cbc-a9c5-7d80219f8103",
   "metadata": {},
   "outputs": [
    {
     "data": {
      "text/plain": [
       "120"
      ]
     },
     "execution_count": 4,
     "metadata": {},
     "output_type": "execute_result"
    }
   ],
   "source": [
    "# 팩토리얼 (1 * 2 * ... * n = n!)\n",
    "\n",
    "def fact(n):\n",
    "    result = 1\n",
    "\n",
    "    while n > 1:\n",
    "        result = result * n\n",
    "        # result *=n\n",
    "        n = n - 1\n",
    "        # n -= 1\n",
    "    return result\n",
    "\n",
    "fact(5)"
   ]
  },
  {
   "cell_type": "markdown",
   "id": "244eca3b-eb9b-4bf7-b0f5-8e76caab95ca",
   "metadata": {},
   "source": [
    "1! = 1\n",
    "2! = 1 * 2 = 1! * 2\n",
    "3! = 1 * 2 * 3 = 2! * 3"
   ]
  },
  {
   "cell_type": "code",
   "execution_count": 6,
   "id": "8a0ad7fc-b903-4c5b-b33e-23cfdfe109f2",
   "metadata": {},
   "outputs": [
    {
     "data": {
      "text/plain": [
       "120"
      ]
     },
     "execution_count": 6,
     "metadata": {},
     "output_type": "execute_result"
    }
   ],
   "source": [
    "def factorial(n):\n",
    "    if n <= 1:\n",
    "        return 1\n",
    "    else:\n",
    "        return factorial(n-1) * n\n",
    "\n",
    "factorial(5)"
   ]
  },
  {
   "cell_type": "markdown",
   "id": "d7fd74a0-02f5-4bb9-87af-db04fe58a8a4",
   "metadata": {},
   "source": [
    "## 피보나치 수열\n",
    "\n",
    "```\n",
    "F(0) = F(1) = 1\n",
    "F(n) = F(n-1) + F(n-2)\n",
    "```"
   ]
  },
  {
   "cell_type": "code",
   "execution_count": 1,
   "id": "a8020cf7-bd5d-46f4-a8a2-fcc3606c1590",
   "metadata": {},
   "outputs": [
    {
     "data": {
      "text/plain": [
       "13"
      ]
     },
     "execution_count": 1,
     "metadata": {},
     "output_type": "execute_result"
    }
   ],
   "source": [
    "# 반복문\n",
    "\n",
    "def fib_loop(n):\n",
    "    result = [1, 1]\n",
    "\n",
    "    for i in range (1, n):\n",
    "        end1 = result[-1]\n",
    "        end2 = result[len(result)-2]\n",
    "        fib_num = end1 + end2\n",
    "\n",
    "        result.append(fib_num)\n",
    "\n",
    "    return result[-1]\n",
    "\n",
    "fib_loop(6)"
   ]
  },
  {
   "cell_type": "code",
   "execution_count": 2,
   "id": "0da0f920-192e-43b7-84aa-c03763523574",
   "metadata": {},
   "outputs": [
    {
     "data": {
      "text/plain": [
       "13"
      ]
     },
     "execution_count": 2,
     "metadata": {},
     "output_type": "execute_result"
    }
   ],
   "source": [
    "# 재귀\n",
    "\n",
    "def fib_rec(n):\n",
    "    if n == 0 or n == 1:\n",
    "        return 1\n",
    "    else:\n",
    "        return fib_rec(n-1) + fib_rec(n-2)\n",
    "\n",
    "fib_rec(6)"
   ]
  }
 ],
 "metadata": {
  "kernelspec": {
   "display_name": "Python 3 (ipykernel)",
   "language": "python",
   "name": "python3"
  },
  "language_info": {
   "codemirror_mode": {
    "name": "ipython",
    "version": 3
   },
   "file_extension": ".py",
   "mimetype": "text/x-python",
   "name": "python",
   "nbconvert_exporter": "python",
   "pygments_lexer": "ipython3",
   "version": "3.11.4"
  }
 },
 "nbformat": 4,
 "nbformat_minor": 5
}
