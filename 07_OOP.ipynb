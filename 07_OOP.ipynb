{
 "cells": [
  {
   "cell_type": "markdown",
   "id": "89d96d74-45aa-4adc-b1aa-01bac8c04572",
   "metadata": {},
   "source": [
    "# 객체지향 프로그래밍 (OOP)\n",
    "\n",
    "- 클래스(class) : 같은 종류의 집단에 속하는 속성(attribute)과 행위(method)를 **정의**한것\n",
    "- 인스턴스(instance) : 클래스를 실제로 메모리상에 할당한 것\n",
    "- 속성(attribute) : 클래스/인스턴스가 가지고 있는 데이터/값\n",
    "- 행위(method) : 클래스/인스턴스가 가지고 있는 함수/기능"
   ]
  },
  {
   "cell_type": "code",
   "execution_count": 1,
   "id": "7e409f7b-5009-455f-adc0-bc26c394cfc7",
   "metadata": {},
   "outputs": [
    {
     "name": "stdout",
     "output_type": "stream",
     "text": [
      "(1+2j)\n"
     ]
    }
   ],
   "source": [
    "number = 1 + 2j\n",
    "print(number)"
   ]
  },
  {
   "cell_type": "code",
   "execution_count": 2,
   "id": "36fc42b4-639e-40e8-b1c4-05f8d4258d6d",
   "metadata": {},
   "outputs": [
    {
     "name": "stdout",
     "output_type": "stream",
     "text": [
      "1.0\n",
      "2.0\n"
     ]
    }
   ],
   "source": [
    "print(number.real)\n",
    "print(number.imag)"
   ]
  },
  {
   "cell_type": "code",
   "execution_count": 3,
   "id": "a449f0d9-85f0-44b3-89c7-134fb2b2b93b",
   "metadata": {},
   "outputs": [
    {
     "data": {
      "text/plain": [
       "['__abs__',\n",
       " '__add__',\n",
       " '__bool__',\n",
       " '__class__',\n",
       " '__complex__',\n",
       " '__delattr__',\n",
       " '__dir__',\n",
       " '__doc__',\n",
       " '__eq__',\n",
       " '__format__',\n",
       " '__ge__',\n",
       " '__getattribute__',\n",
       " '__getnewargs__',\n",
       " '__getstate__',\n",
       " '__gt__',\n",
       " '__hash__',\n",
       " '__init__',\n",
       " '__init_subclass__',\n",
       " '__le__',\n",
       " '__lt__',\n",
       " '__mul__',\n",
       " '__ne__',\n",
       " '__neg__',\n",
       " '__new__',\n",
       " '__pos__',\n",
       " '__pow__',\n",
       " '__radd__',\n",
       " '__reduce__',\n",
       " '__reduce_ex__',\n",
       " '__repr__',\n",
       " '__rmul__',\n",
       " '__rpow__',\n",
       " '__rsub__',\n",
       " '__rtruediv__',\n",
       " '__setattr__',\n",
       " '__sizeof__',\n",
       " '__str__',\n",
       " '__sub__',\n",
       " '__subclasshook__',\n",
       " '__truediv__',\n",
       " 'conjugate',\n",
       " 'imag',\n",
       " 'real']"
      ]
     },
     "execution_count": 3,
     "metadata": {},
     "output_type": "execute_result"
    }
   ],
   "source": [
    "dir(number)"
   ]
  },
  {
   "cell_type": "code",
   "execution_count": 4,
   "id": "ddbe3203-02a9-40b0-bfbc-e2b9d12af559",
   "metadata": {},
   "outputs": [
    {
     "name": "stdout",
     "output_type": "stream",
     "text": [
      "<class 'complex'>\n"
     ]
    }
   ],
   "source": [
    "print(type(number))"
   ]
  },
  {
   "cell_type": "code",
   "execution_count": 5,
   "id": "f0c78ccd-2893-4b6e-8cf2-fd99440bdc3a",
   "metadata": {},
   "outputs": [
    {
     "name": "stdout",
     "output_type": "stream",
     "text": [
      "<class 'list'>\n"
     ]
    }
   ],
   "source": [
    "my_list = [1, 2, 3, 4, 5]\n",
    "print(type(my_list))\n",
    "my_list.sort()"
   ]
  },
  {
   "cell_type": "code",
   "execution_count": 6,
   "id": "10f5802e-8f1d-4ae6-b0f8-6d0be2b94930",
   "metadata": {},
   "outputs": [],
   "source": [
    "power = False\n",
    "number = '010-1234-1234'\n",
    "book = {\n",
    "    '홍길동': '010-1111-1111',\n",
    "    '이순신': '010-2222-2222',\n",
    "}\n",
    "model = 'iPhone12'"
   ]
  },
  {
   "cell_type": "code",
   "execution_count": 7,
   "id": "e38367dc-f223-4a6e-937f-0f27c87d7700",
   "metadata": {},
   "outputs": [],
   "source": [
    "def on():\n",
    "    global power\n",
    "    if power == False:\n",
    "        power = True\n",
    "        print('핸드폰이 켜졌습니다.')"
   ]
  },
  {
   "cell_type": "code",
   "execution_count": 8,
   "id": "f54105fc-5cdf-4e16-af32-5c9def6d1419",
   "metadata": {},
   "outputs": [
    {
     "name": "stdout",
     "output_type": "stream",
     "text": [
      "핸드폰이 켜졌습니다.\n"
     ]
    }
   ],
   "source": [
    "on()"
   ]
  },
  {
   "cell_type": "markdown",
   "id": "a2872806-5001-4e16-b74a-9760cb80002d",
   "metadata": {},
   "source": [
    "## Class\n",
    "\n",
    "```python\n",
    "class Classname:\n",
    "    attribute = value\n",
    "\n",
    "    def method_name(self):\n",
    "        code\n",
    "\n",
    "```"
   ]
  },
  {
   "cell_type": "code",
   "execution_count": 9,
   "id": "79be4374-f70e-4d21-aae8-344693efa59e",
   "metadata": {},
   "outputs": [],
   "source": [
    "# 선언\n",
    "class MyClass:\n",
    "    name = 'kim'\n",
    "\n",
    "    def hello(self):\n",
    "        return 'hello'"
   ]
  },
  {
   "cell_type": "code",
   "execution_count": 10,
   "id": "cd4f5dd1-266c-4ca2-8b4d-4aa3e1812b8f",
   "metadata": {},
   "outputs": [
    {
     "name": "stdout",
     "output_type": "stream",
     "text": [
      "kim\n",
      "hello\n",
      "kim\n",
      "hello\n"
     ]
    }
   ],
   "source": [
    "# 인스턴스화\n",
    "a = MyClass()\n",
    "\n",
    "print(a.name)\n",
    "print(a.hello())\n",
    "\n",
    "b = MyClass()\n",
    "\n",
    "print(b.name)\n",
    "print(b.hello())"
   ]
  },
  {
   "cell_type": "code",
   "execution_count": 11,
   "id": "046290ba-a5f9-43e4-860a-8580f3b43c2a",
   "metadata": {},
   "outputs": [],
   "source": [
    "class Phone:\n",
    "    power = False\n",
    "    number = '010-0000-0000'\n",
    "    book = {}\n",
    "    model = ''\n",
    "\n",
    "    def on(self):\n",
    "        if self.power == False:\n",
    "            self.power = True\n",
    "\n",
    "    def off(self):\n",
    "        if self.power == True:\n",
    "            self.power = False\n",
    "\n",
    "    def call(self):\n",
    "        if self.power == True:\n",
    "            print(f'내 번호는 {self.number}입니다.')\n",
    "            print(f'{target}번호로 전화거는중')\n",
    "        else:\n",
    "            print('핸드폰을 켜주세요')"
   ]
  },
  {
   "cell_type": "code",
   "execution_count": 13,
   "id": "0e60a2a2-300c-49b6-a914-e1c37a017d9f",
   "metadata": {},
   "outputs": [],
   "source": [
    "my_phone = Phone()\n",
    "your_phone = Phone()"
   ]
  },
  {
   "cell_type": "code",
   "execution_count": 14,
   "id": "5f7719de-4063-49fb-8e8e-eaf85f54ed0d",
   "metadata": {},
   "outputs": [
    {
     "name": "stdout",
     "output_type": "stream",
     "text": [
      "010-1234-1234\n"
     ]
    }
   ],
   "source": [
    "my_phone.number = '010-1234-1234'\n",
    "print(my_phone.number)"
   ]
  },
  {
   "cell_type": "code",
   "execution_count": 15,
   "id": "6ef6dd40-66b3-44d7-8023-f876f5498cb6",
   "metadata": {},
   "outputs": [
    {
     "data": {
      "text/plain": [
       "'010-0000-0000'"
      ]
     },
     "execution_count": 15,
     "metadata": {},
     "output_type": "execute_result"
    }
   ],
   "source": [
    "your_phone.number"
   ]
  },
  {
   "cell_type": "code",
   "execution_count": 16,
   "id": "079e8726-2d52-4b75-948f-e758879d8422",
   "metadata": {},
   "outputs": [
    {
     "data": {
      "text/plain": [
       "False"
      ]
     },
     "execution_count": 16,
     "metadata": {},
     "output_type": "execute_result"
    }
   ],
   "source": [
    "my_phone.power"
   ]
  },
  {
   "cell_type": "code",
   "execution_count": 17,
   "id": "c347d23d-80c1-416a-a6b4-917dcd0f39f2",
   "metadata": {},
   "outputs": [],
   "source": [
    "my_phone.on()"
   ]
  },
  {
   "cell_type": "code",
   "execution_count": 18,
   "id": "0dbcee82-1505-4c5a-9dab-5f38ec7303dd",
   "metadata": {},
   "outputs": [
    {
     "data": {
      "text/plain": [
       "True"
      ]
     },
     "execution_count": 18,
     "metadata": {},
     "output_type": "execute_result"
    }
   ],
   "source": [
    "my_phone.power"
   ]
  },
  {
   "cell_type": "code",
   "execution_count": 20,
   "id": "8aa13ace-a65a-4bcb-b29b-32527143aa7c",
   "metadata": {},
   "outputs": [],
   "source": [
    "# 연습\n",
    "\n",
    "class MyList:\n",
    "    data = []\n",
    "\n",
    "    def append(self, item):\n",
    "        self.data = self.data + [item]\n",
    "\n",
    "# data의 제일 마지막 요소를 삭제하고, 삭제된 요소를 리턴\n",
    "    def pop(self):\n",
    "        num = self.data[-1]\n",
    "        self.data = self.data[:-1]\n",
    "        return num"
   ]
  },
  {
   "cell_type": "code",
   "execution_count": 21,
   "id": "f0f31254-4a30-49cb-8d24-00972374a67c",
   "metadata": {},
   "outputs": [
    {
     "name": "stdout",
     "output_type": "stream",
     "text": [
      "[]\n",
      "[5, 1, 10]\n",
      "10\n",
      "[5, 1]\n"
     ]
    }
   ],
   "source": [
    "list_a = MyList()\n",
    "print(list_a.data)\n",
    "\n",
    "list_a.append(5)\n",
    "list_a.append(1)\n",
    "list_a.append(10)\n",
    "print(list_a.data)\n",
    "\n",
    "print(list_a.pop())\n",
    "print(list_a.data)"
   ]
  },
  {
   "cell_type": "code",
   "execution_count": 22,
   "id": "c0f89b0e-2026-4507-8b7d-53572c7b23b0",
   "metadata": {},
   "outputs": [
    {
     "data": {
      "text/plain": [
       "<bound method Person.hello of <__main__.Person object at 0x0000014844077F50>>"
      ]
     },
     "execution_count": 22,
     "metadata": {},
     "output_type": "execute_result"
    }
   ],
   "source": [
    "# 정리\n",
    "class Person: # > 클래스 정의(선언) : 클래스 객체 생성\n",
    "    name = 'kim' # > 속성(attribute) : 변수 / 값 / 데이터\n",
    "\n",
    "    def hello(self): # > 행동(method) : 함수 / 기능\n",
    "        return self.name\n",
    "\n",
    "p = Person() # > 인스턴스화 / 인스턴스 객체를 생성\n",
    "p.name # > 속성을 호출\n",
    "p.hello # > 메소드를 실행"
   ]
  },
  {
   "cell_type": "code",
   "execution_count": null,
   "id": "1d04a71c-87c4-41c8-902d-6f9c505c1d09",
   "metadata": {},
   "outputs": [],
   "source": []
  },
  {
   "cell_type": "code",
   "execution_count": 23,
   "id": "2520bad3-4494-49c0-8bd0-6de1e57bd5db",
   "metadata": {},
   "outputs": [
    {
     "name": "stdout",
     "output_type": "stream",
     "text": [
      "현재 상태는 약풍\n",
      "현재 상태는 중풍\n",
      "현재 상태는 강풍\n",
      "현재 상태는 꺼짐\n",
      "현재 상태는 약풍\n",
      "현재 상태는 중풍\n"
     ]
    }
   ],
   "source": [
    "class Fan:\n",
    "    power = ['꺼짐', '약풍', '중풍', '강풍']\n",
    "    status = 0 \n",
    "\n",
    "    def button(self):\n",
    "        # self.status += 1\n",
    "        self.status = (self.status + 1) % 4\n",
    "        print(f'현재 상태는 {self.power[self.status]}')\n",
    "\n",
    "f = Fan()\n",
    "\n",
    "f.button()\n",
    "f.button()\n",
    "f.button()\n",
    "f.button()\n",
    "f.button()\n",
    "f.button()"
   ]
  },
  {
   "cell_type": "code",
   "execution_count": 24,
   "id": "2f77da7c-adca-4c27-b10e-7d1157377553",
   "metadata": {},
   "outputs": [],
   "source": [
    "class Person():\n",
    "    name = ''\n",
    "\n",
    "    def hello(self):\n",
    "        print(f'나의 이름은 {self.name}입니다.')"
   ]
  },
  {
   "cell_type": "code",
   "execution_count": 25,
   "id": "5a2b0dde-b8d8-4c4c-b051-dea71eb0e163",
   "metadata": {},
   "outputs": [
    {
     "name": "stdout",
     "output_type": "stream",
     "text": [
      "\n",
      "나의 이름은 입니다.\n",
      "나의 이름은 kim입니다.\n"
     ]
    }
   ],
   "source": [
    "p = Person()\n",
    "print(p.name)\n",
    "p.hello()\n",
    "p.name = 'kim'\n",
    "p.hello()"
   ]
  },
  {
   "cell_type": "code",
   "execution_count": null,
   "id": "7ccff590-115f-4ccd-91ad-a6da98a930e6",
   "metadata": {},
   "outputs": [],
   "source": [
    "# self : 인스턴스 객체 자기자신 (다른 언어에서는 this)\n",
    "# - 특별한 상황을 제외하고는 무조건 메소드의 첫번째 인자로 설정한다.\n",
    "# - 인스턴스 메소드를 실행 할 때 자동으로 첫번째 인자에 인스턴스를 할당한다"
   ]
  },
  {
   "cell_type": "code",
   "execution_count": 26,
   "id": "484810b1-cb12-48d1-ac2d-a2101e8707ac",
   "metadata": {},
   "outputs": [
    {
     "name": "stdout",
     "output_type": "stream",
     "text": [
      "나의 이름은 입니다.\n",
      "나의 이름은 입니다.\n"
     ]
    }
   ],
   "source": [
    "p1 = Person()\n",
    "# self 매개변수 자리에 p1이라고 하는 인스턴스 객체가 인자로 전달\n",
    "p1.hello()\n",
    "# p1인스턴스 객체에서부터 메소드가 실행되기 때문에 self == p1\n",
    "Person.hello(p1)"
   ]
  },
  {
   "cell_type": "markdown",
   "id": "67689138-472e-4480-8d0f-1997acf9fdf3",
   "metadata": {},
   "source": [
    "## 생성자, 소멸자\n",
    "\n",
    "```python\n",
    "\n",
    "class MyClass:\n",
    "    def __init__(self):\n",
    "        pass\n",
    "\n",
    "    def __del__(self):\n",
    "        pass\n",
    "\n",
    "```"
   ]
  },
  {
   "cell_type": "code",
   "execution_count": 27,
   "id": "295ac0fe-736d-4f1d-86c2-671f7bd96bca",
   "metadata": {},
   "outputs": [],
   "source": [
    "class Person:\n",
    "    name = 'noname'\n",
    "\n",
    "    def __init__(self, name='익명'):\n",
    "        self.name = name\n",
    "        print('생성됨')\n",
    "\n",
    "    def __del__(self):\n",
    "        print('소멸됨')"
   ]
  },
  {
   "cell_type": "code",
   "execution_count": 28,
   "id": "cad5b777-9379-4e30-beba-627f0db6f781",
   "metadata": {},
   "outputs": [
    {
     "name": "stdout",
     "output_type": "stream",
     "text": [
      "생성됨\n",
      "changhee\n"
     ]
    }
   ],
   "source": [
    "p1 = Person() # > Person.__init__(p1, )\n",
    "p1.name = 'changhee'\n",
    "print(p1.name)"
   ]
  },
  {
   "cell_type": "code",
   "execution_count": 29,
   "id": "e327bef7-6161-412a-875b-b1b16ef43eda",
   "metadata": {},
   "outputs": [
    {
     "name": "stdout",
     "output_type": "stream",
     "text": [
      "생성됨\n",
      "kim\n"
     ]
    }
   ],
   "source": [
    "p2 = Person('kim') # > Person.__init__(p2, 'kim')\n",
    "print(p2.name)"
   ]
  },
  {
   "cell_type": "code",
   "execution_count": 30,
   "id": "aa2116b0-3b5f-49d7-a90e-0a3e1e4b139d",
   "metadata": {},
   "outputs": [],
   "source": [
    "# Circle 클래스\n",
    "\n",
    "class Circle:\n",
    "    pi = 3.14\n",
    "    \n",
    "    def __init__(self, r, x_point=0, y_point=0):\n",
    "        self.r = r\n",
    "        self.x = x_point\n",
    "        self.y = y_point\n",
    "\n",
    "    def area(self):\n",
    "        return self.pi * self.r ** 2\n",
    "\n",
    "    def move(self, x, y):\n",
    "        self.x = x\n",
    "        self.y = y\n",
    "        print(f'원의 중심이 {x}, {y}로 이동했습니다.')\n",
    "\n",
    "    def center(self):\n",
    "        #원의 중심을 (x, y)로 반환\n",
    "        return (self.x, self.y)"
   ]
  },
  {
   "cell_type": "code",
   "execution_count": 31,
   "id": "712dd538-ebee-43e7-b53b-5f4e195aee44",
   "metadata": {},
   "outputs": [
    {
     "name": "stdout",
     "output_type": "stream",
     "text": [
      "5\n",
      "3\n",
      "28.26\n",
      "원의 중심이 -3, -3로 이동했습니다.\n",
      "(-3, -3)\n",
      "0\n",
      "10\n",
      "314.0\n",
      "원의 중심이 10, 10로 이동했습니다.\n",
      "(10, 10)\n"
     ]
    }
   ],
   "source": [
    "c1 = Circle(3, 5, 5)\n",
    "print(c1.x)\n",
    "print(c1.r)\n",
    "print(c1.area())\n",
    "c1.move(-3, -3)\n",
    "print(c1.center())\n",
    "\n",
    "c2 = Circle(10)\n",
    "print(c2.x)\n",
    "print(c2.r)\n",
    "print(c2.area())\n",
    "c2.move(10, 10)\n",
    "print(c2. center())"
   ]
  },
  {
   "cell_type": "markdown",
   "id": "f62a9e12-03d9-4d4b-a40b-6f13892ddfa7",
   "metadata": {},
   "source": [
    "## 클래스 변수\n",
    "- 클랜스 선언 블록 최상단에 위치\n",
    "\n",
    "## 인스턴스 변수\n",
    "- 인스턴스 내부에서 생성한 변수 (self.variable = )\n",
    "\n",
    "```python\n",
    "\n",
    "class TestClass:\n",
    "    class_variable = '클래스 변수'\n",
    "\n",
    "    def __init__(self, arg):\n",
    "        self.instance_variable = '인스턴스 변수'\n",
    "\n",
    "    def status(self):\n",
    "        return self.instance_variable\n",
    "\n",
    "```"
   ]
  },
  {
   "cell_type": "code",
   "execution_count": 32,
   "id": "20c07329-7828-494a-b51a-380f07580b7c",
   "metadata": {},
   "outputs": [],
   "source": [
    "class Person:\n",
    "    name = '홍길동'\n",
    "    phone = '010-1234-1234'\n",
    "\n",
    "    def __init__(self, name):\n",
    "        self.name = name"
   ]
  },
  {
   "cell_type": "code",
   "execution_count": 33,
   "id": "a815b359-ec81-4967-aeae-23bababb903b",
   "metadata": {},
   "outputs": [
    {
     "name": "stdout",
     "output_type": "stream",
     "text": [
      "오창희\n",
      "홍길동\n",
      "010-1234-1234\n"
     ]
    }
   ],
   "source": [
    "p = Person('오창희')\n",
    "print(p.name)\n",
    "print(Person.name)\n",
    "\n",
    "print(p.phone)"
   ]
  },
  {
   "cell_type": "markdown",
   "id": "cb74faba-369a-4430-bba8-f16a32b1c721",
   "metadata": {},
   "source": [
    "## 클래스 메소드, 인스턴스 메소드, 스태틱 메소드\n",
    "\n",
    "```python\n",
    "\n",
    "class MyClass:\n",
    "    def instance_method(self):\n",
    "        pass\n",
    "\n",
    "    @classmethod\n",
    "    def class_method(cls):\n",
    "        pass\n",
    "\n",
    "    @staticmethod\n",
    "    def static_method():\n",
    "        pass"
   ]
  },
  {
   "cell_type": "code",
   "execution_count": 34,
   "id": "14d879d9-bef8-4d98-9fd6-5c2e4e33df3c",
   "metadata": {},
   "outputs": [],
   "source": [
    "class MyClass:\n",
    "    def instance_method(self):\n",
    "        return self\n",
    "\n",
    "    @classmethod\n",
    "    def class_method(cls):\n",
    "        return cls\n",
    "\n",
    "    @staticmethod\n",
    "    def static_method():\n",
    "        return 'hello'"
   ]
  },
  {
   "cell_type": "code",
   "execution_count": 35,
   "id": "dcfed93e-1ac7-49ff-8484-0ce0a5bf948d",
   "metadata": {},
   "outputs": [
    {
     "name": "stdout",
     "output_type": "stream",
     "text": [
      "<__main__.MyClass object at 0x0000014844657ED0>\n",
      "<class '__main__.MyClass'>\n",
      "<class '__main__.MyClass'>\n",
      "hello\n"
     ]
    }
   ],
   "source": [
    "c1 = MyClass()\n",
    "\n",
    "print(c1.instance_method())\n",
    "print(MyClass.class_method())\n",
    "print(c1.class_method())\n",
    "print(c1.static_method())"
   ]
  },
  {
   "cell_type": "code",
   "execution_count": 36,
   "id": "347f94d4-7f2b-47ed-8c0c-0b1f9d5a17ac",
   "metadata": {},
   "outputs": [],
   "source": [
    "class Puppy:\n",
    "    num_of_puppy = 0\n",
    "\n",
    "    def __init__(self, name):\n",
    "        self.name = name\n",
    "        Puppy.num_of_puppy += 1\n",
    "\n",
    "    @classmethod\n",
    "    def get_status(cls):\n",
    "        return f'현재 강아지는 {cls.num_of_puppy}마리 입니다.'"
   ]
  },
  {
   "cell_type": "code",
   "execution_count": 37,
   "id": "db47e169-49be-40c9-be78-d99bde7d821f",
   "metadata": {},
   "outputs": [
    {
     "name": "stdout",
     "output_type": "stream",
     "text": [
      "소멸됨\n",
      "소멸됨\n",
      "3\n",
      "3\n",
      "현재 강아지는 3마리 입니다.\n"
     ]
    }
   ],
   "source": [
    "p1 = Puppy('또또')\n",
    "p2 = Puppy('몽이')\n",
    "p3 = Puppy('흰둥이')\n",
    "\n",
    "print(p1.num_of_puppy)\n",
    "print(Puppy.num_of_puppy)\n",
    "\n",
    "print(Puppy.get_status())"
   ]
  },
  {
   "cell_type": "markdown",
   "id": "72dc2070-0e92-4154-b52e-0c7da17c3be4",
   "metadata": {},
   "source": [
    "## 정리\n",
    "\n",
    "```python\n",
    "class\n",
    "    - attribute (variable, data)\n",
    "        -instance_variable\n",
    "        - class_variable\n",
    "\n",
    "    - method\n",
    "        -instance_method\n",
    "        - class_method\n",
    "        - static_method\n",
    "\n",
    "```"
   ]
  },
  {
   "cell_type": "code",
   "execution_count": 38,
   "id": "5df06e65-ce56-47bb-b028-66693f7cc9e0",
   "metadata": {},
   "outputs": [],
   "source": [
    "class Person:\n",
    "\n",
    "    def __init__(self, name):\n",
    "        self.name = name\n",
    "\n",
    "    def greeting(self):\n",
    "        print(f'안녕하세요 {self.name}입니다.')"
   ]
  },
  {
   "cell_type": "code",
   "execution_count": 39,
   "id": "d14383c3-c326-4493-ab2a-db70cd8589ed",
   "metadata": {},
   "outputs": [
    {
     "name": "stdout",
     "output_type": "stream",
     "text": [
      "안녕하세요 홍길동입니다.\n"
     ]
    }
   ],
   "source": [
    "p1 = Person('홍길동')\n",
    "p2 = Person('이순신')\n",
    "\n",
    "p1.greeting()"
   ]
  },
  {
   "cell_type": "code",
   "execution_count": 40,
   "id": "24028108-a869-408a-9e16-953fe25f0ed5",
   "metadata": {},
   "outputs": [],
   "source": [
    "class Student(Person):\n",
    "    def __init__(self, name, student_id):\n",
    "        self.name = name\n",
    "        self.student_id = student_id"
   ]
  },
  {
   "cell_type": "code",
   "execution_count": 41,
   "id": "b8a73781-5e46-4c33-ac40-80cdc5728bb7",
   "metadata": {},
   "outputs": [
    {
     "name": "stdout",
     "output_type": "stream",
     "text": [
      "안녕하세요 kim입니다.\n",
      "12345\n"
     ]
    }
   ],
   "source": [
    "s1 = Student('kim', 12345)\n",
    "s2 = Student('park', 98765)\n",
    "\n",
    "s1.greeting()\n",
    "print(s1.student_id)"
   ]
  },
  {
   "cell_type": "code",
   "execution_count": 42,
   "id": "f3c6bba3-e690-469f-bcda-e4851170caaf",
   "metadata": {},
   "outputs": [],
   "source": [
    "class Soldier(Person):\n",
    "\n",
    "    def greeting(self):\n",
    "        return f'충성! {self.name}입니다.'"
   ]
  },
  {
   "cell_type": "code",
   "execution_count": 43,
   "id": "f8958586-f33d-47de-8785-b68c0427f1cc",
   "metadata": {},
   "outputs": [
    {
     "data": {
      "text/plain": [
       "'충성! 국방이입니다.'"
      ]
     },
     "execution_count": 43,
     "metadata": {},
     "output_type": "execute_result"
    }
   ],
   "source": [
    "s1 = Soldier('국방이')\n",
    "s1.greeting()"
   ]
  },
  {
   "cell_type": "code",
   "execution_count": 47,
   "id": "e4526442-e02b-449d-b5be-adf28d9644a5",
   "metadata": {},
   "outputs": [],
   "source": [
    "class Person:\n",
    "    def __init__(self, email, phone, location, name):\n",
    "        self.email = email\n",
    "        self.phone = phone\n",
    "        self.location = location\n",
    "        self.name = name\n",
    "\n",
    "class Student(Person):\n",
    "    def __init__(self, eamil, phone, location, name, student_id):\n",
    "        self.email = email\n",
    "        self.phone = phone\n",
    "        self.location = location\n",
    "        self.name = name\n",
    "        self.student_id = student_id\n",
    "\n",
    "class Soldier(Person):\n",
    "    def __init__(self, email, phone, location, name, soldier_id):\n",
    "        # super() => 부모클래스 (Person)\n",
    "        super().__init__(email, phone, location, name)\n",
    "        self.soldier_id = soldier_id\n",
    "        "
   ]
  },
  {
   "cell_type": "code",
   "execution_count": 48,
   "id": "d9526bb2-e072-47e0-a986-62580318086b",
   "metadata": {},
   "outputs": [
    {
     "name": "stdout",
     "output_type": "stream",
     "text": [
      "kim\n",
      "12345\n"
     ]
    }
   ],
   "source": [
    "s1 = Soldier('email@eamil.com', '010-1234', 'seoul', 'kim', '12345')\n",
    "print(s1.name)\n",
    "print(s1.soldier_id)"
   ]
  },
  {
   "cell_type": "code",
   "execution_count": 49,
   "id": "c89f2f53-dfc0-4f74-b48a-e3729ddd51ce",
   "metadata": {},
   "outputs": [],
   "source": [
    "class Person:\n",
    "    def __init__(self, name):\n",
    "        self.name =name\n",
    "\n",
    "    def breath(self):\n",
    "        print('후하')"
   ]
  },
  {
   "cell_type": "code",
   "execution_count": 50,
   "id": "cbcbb5fd-11ce-4cc9-8814-295c2b38d1be",
   "metadata": {},
   "outputs": [],
   "source": [
    "class Mom(Person):\n",
    "    gene = 'xx'\n",
    "\n",
    "    def swim(self):\n",
    "        print('어푸어푸')"
   ]
  },
  {
   "cell_type": "code",
   "execution_count": 51,
   "id": "5faa2e3a-d6dc-4b9d-a8ba-aafbc11a420f",
   "metadata": {},
   "outputs": [],
   "source": [
    "class Dad(Person):\n",
    "    gene = 'xy'\n",
    "\n",
    "    def run(self):\n",
    "        print('다다다')"
   ]
  },
  {
   "cell_type": "code",
   "execution_count": 52,
   "id": "1f8f324d-929d-4ca5-8c42-18d1138e9071",
   "metadata": {},
   "outputs": [],
   "source": [
    "class Baby(Dad, Mom):\n",
    "    pass"
   ]
  },
  {
   "cell_type": "code",
   "execution_count": 53,
   "id": "ebae8f9c-b3c1-4d16-819e-2f5ae8c6b96c",
   "metadata": {},
   "outputs": [
    {
     "name": "stdout",
     "output_type": "stream",
     "text": [
      "후하\n",
      "어푸어푸\n",
      "다다다\n",
      "xy\n"
     ]
    }
   ],
   "source": [
    "b = Baby('금쪽이')\n",
    "b.breath()\n",
    "b.swim()\n",
    "b.run()\n",
    "# 다중상속을 한 경우 먼저 상속받은 데이터/메소드가 우선\n",
    "print(b.gene)"
   ]
  },
  {
   "cell_type": "code",
   "execution_count": 54,
   "id": "efc36e65-1b50-4982-9990-28331a0736e8",
   "metadata": {},
   "outputs": [],
   "source": [
    "# 강사님 포켓몬 연습 자료\n",
    "\n",
    "class Pocketmon():\n",
    "    def __init__(self, name):\n",
    "        self.name = name\n",
    "        self.level = 10\n",
    "        self.hp = self.level * 5\n",
    "        self.exp = 0\n",
    "\n",
    "    def attack(self, opponent):\n",
    "        damege = self.level * 2\n",
    "        opponent.hp -= damege\n",
    "        if opponent.check_hp():\n",
    "            self.exp += 5\n",
    "\n",
    "    def check_hp(self):\n",
    "        return True if self.hp <= 0 else False\n",
    "\n",
    "    \n",
    "class WaterType():\n",
    "    type_name = 'water'\n",
    "\n",
    "class FireType():\n",
    "    type_name = 'fire'\n",
    "\n",
    "class WaterPocketmon(Pocketmon, WaterType):\n",
    "    def water_attack1(self, opponent):\n",
    "        if opponent.type_name == 'fire':\n",
    "            damege = self.level * 4\n",
    "        else:\n",
    "            damege = self.level * 2\n",
    "        opponent.hp -= damege\n",
    "        print(f'{self.name}은 {opponent.name}에게 {damege}의 공격을 했다.')\n",
    "\n",
    "    def water_attack2(self, opponent):\n",
    "        damege = random.randint(1, 5)\n",
    "        opponent.hp -= damege\n",
    "        print(f'{self.name}은 {opponent.name}에게 {damege}의 공격을 했다.')\n",
    "    \n",
    "\n",
    "class FirePocketmon(Pocketmon, FireType):\n",
    "    def fire_attack1(self, opponent):\n",
    "        damege = self.level * 2\n",
    "        opponent.hp -= damege\n",
    "        print(f'{self.name}은 {opponent.name}에게 {damege}의 공격을 했다.')\n",
    "\n",
    "    def fire_attack2(self, opponent):\n",
    "        damege = random.randint(1, 5)\n",
    "        opponent.hp -= damege\n",
    "        print(f'{self.name}은 {opponent.name}에게 {damege}의 공격을 했다.')"
   ]
  },
  {
   "cell_type": "code",
   "execution_count": 55,
   "id": "2730e0ad-3a42-4aa4-9964-83b6abab344d",
   "metadata": {},
   "outputs": [],
   "source": [
    "koboki = WaterPocketmon('꼬부기')\n",
    "pairi = FirePocketmon('파이리')"
   ]
  },
  {
   "cell_type": "code",
   "execution_count": 56,
   "id": "2dd20ab4-11ba-445c-8449-d907ad75cead",
   "metadata": {},
   "outputs": [
    {
     "name": "stdout",
     "output_type": "stream",
     "text": [
      "꼬부기은 파이리에게 2의 공격을 했다.\n",
      "파이리은 꼬부기에게 20의 공격을 했다.\n",
      "꼬부기: 30\n",
      "파이리: 48\n",
      "꼬부기은 파이리에게 4의 공격을 했다.\n",
      "파이리은 꼬부기에게 4의 공격을 했다.\n",
      "꼬부기: 26\n",
      "파이리: 44\n",
      "꼬부기은 파이리에게 5의 공격을 했다.\n",
      "파이리은 꼬부기에게 4의 공격을 했다.\n",
      "꼬부기: 22\n",
      "파이리: 39\n",
      "꼬부기은 파이리에게 40의 공격을 했다.\n",
      "파이리 승리\n"
     ]
    }
   ],
   "source": [
    "import random \n",
    "\n",
    "while not koboki.check_hp() or not pairi.check_hp():\n",
    "    random_attack = random.randint(0, 1)\n",
    "    if random_attack:\n",
    "        koboki.water_attack1(pairi)\n",
    "    else:\n",
    "        koboki.water_attack2(pairi)\n",
    "    if pairi.check_hp():\n",
    "        print(f'{pairi.name} 승리')\n",
    "        break\n",
    "\n",
    "    random_attack = random.randint(0, 1)\n",
    "    if random_attack:\n",
    "        pairi.fire_attack1(koboki)\n",
    "    else:\n",
    "        pairi.fire_attack2(koboki)\n",
    "    if koboki.check_hp():\n",
    "        print(f'{koboki.name} 승리')\n",
    "\n",
    "    \n",
    "    print(f'{koboki.name}: {koboki.hp}')\n",
    "    print(f'{pairi.name}: {pairi.hp}')"
   ]
  },
  {
   "cell_type": "code",
   "execution_count": 61,
   "id": "afeaa28c-d422-47d4-ab4b-7f6c74914a52",
   "metadata": {},
   "outputs": [
    {
     "ename": "SyntaxError",
     "evalue": "invalid syntax. Perhaps you forgot a comma? (2412292256.py, line 174)",
     "output_type": "error",
     "traceback": [
      "\u001b[1;36m  Cell \u001b[1;32mIn[61], line 174\u001b[1;36m\u001b[0m\n\u001b[1;33m    if isinstance(self.mon brocain):\u001b[0m\n\u001b[1;37m                  ^\u001b[0m\n\u001b[1;31mSyntaxError\u001b[0m\u001b[1;31m:\u001b[0m invalid syntax. Perhaps you forgot a comma?\n"
     ]
    }
   ],
   "source": [
    "# 포켓몬 연습 제작 \n",
    "\n",
    "class Pocketmon():\n",
    "    \n",
    "    def __init__(self, name):\n",
    "        self.name = name\n",
    "        self.lv = 1\n",
    "        self.hp = self.lv * 20\n",
    "        self.exp = 0\n",
    "        self.feature = feature\n",
    "\n",
    "    \n",
    "    def glow(self):\n",
    "        print(self.name, '포켓몬이 성장한다.')\n",
    "\n",
    "    def health(self):\n",
    "        print(self.name, '포켓몬이 운동한다.')\n",
    "\n",
    "    def eat(self):\n",
    "        print(self.name, '포켓몬이 음식을 먹는다.')\n",
    "\n",
    "    def sleep(self):\n",
    "        print(self.name, '포켓몬이 잠에 빠져든다.')\n",
    "\n",
    "    def lvtest(self):\n",
    "        print(self.name, '의 레벨을 확인한다.')\n",
    "\n",
    "    \n",
    "    def situation(self):\n",
    "        print(self.name, '포켓몬의 상태를 확인한다.')\n",
    "        print('lv:', self.lv)\n",
    "        print('exp:', self.exp)\n",
    "        print('hp:', self.hp)\n",
    "        print('feature:', self.feature)\n",
    "\n",
    "\n",
    "class brocain(Pocketmon):\n",
    "    def __init__(self):\n",
    "        super().__init__()\n",
    "        self.name = '브케인'\n",
    "        self.hp = 20\n",
    "\n",
    "    def glow(self):\n",
    "        super().glow()\n",
    "        self.lv += 1\n",
    "\n",
    "    def health(self):\n",
    "        super().glow()\n",
    "        self.exp += 5\n",
    "        self.hp -= 3\n",
    "        flag = self.hp>0\n",
    "        if flag:\n",
    "            self.exp += 3\n",
    "            self.lvtest()\n",
    "        return flag\n",
    "\n",
    "    def eat(self):\n",
    "        self.exp += 5\n",
    "        self.hp += 5\n",
    "\n",
    "    def sleep(self):\n",
    "        self.hp += 10\n",
    "\n",
    "    def lvtest(self):\n",
    "        if self.exp>=30:\n",
    "            self.lv +=1\n",
    "            print(self.name, 'Lev Up!!')\n",
    "\n",
    "    def feature(self):\n",
    "        print('불 특성')\n",
    "\n",
    "    def fire(self):\n",
    "        print('불')\n",
    "\n",
    "\n",
    "class Liaco(Pocketmon):\n",
    "    def __init__(self):\n",
    "        super().__init__()\n",
    "        self.name = '리아코'\n",
    "        self.hp = 20\n",
    "\n",
    "    def glow(self):\n",
    "        super().glow()\n",
    "        self.lv += 1\n",
    "\n",
    "    def health(self):\n",
    "        super().glow()\n",
    "        self.exp += 5\n",
    "        self.hp -= 3\n",
    "        flag = self.hp>0\n",
    "        if flag:\n",
    "            self.exp += 3\n",
    "            self.lvtest()\n",
    "        return flag\n",
    "\n",
    "    def eat(self):\n",
    "        self.exp += 5\n",
    "        self.hp += 5\n",
    "\n",
    "    def sleep(self):\n",
    "        self.hp += 10\n",
    "\n",
    "    def lvtest(self):\n",
    "        if self.exp>=30:\n",
    "            self.lv +=1\n",
    "            print(self.name, 'Lev Up!!')\n",
    "\n",
    "    def feature(self):\n",
    "        print('물 특성')\n",
    "\n",
    "    def water(self):\n",
    "        print('물')\n",
    "\n",
    "\n",
    "class Chikorita(Pocketmon):\n",
    "    def __init__(self):\n",
    "        super().__init__()\n",
    "        self.name = '치코리타'\n",
    "        self.hp = 20\n",
    "\n",
    "    def glow(self):\n",
    "        super().glow()\n",
    "        self.lv += 1\n",
    "\n",
    "    def health(self):\n",
    "        super().glow()\n",
    "        self.exp += 5\n",
    "        self.hp -= 3\n",
    "        flag = self.hp>0\n",
    "        if flag:\n",
    "            self.exp += 3\n",
    "            self.lvtest()\n",
    "        return flag\n",
    "\n",
    "    def eat(self):\n",
    "        self.exp += 5\n",
    "        self.hp += 5\n",
    "\n",
    "    def sleep(self):\n",
    "        self.hp += 10\n",
    "\n",
    "    def lvtest(self):\n",
    "        if self.exp>=30:\n",
    "            self.lv +=1\n",
    "            print(self.name, 'Lev Up!!')\n",
    "\n",
    "    def feature(self):\n",
    "        print('풀 특성')\n",
    "\n",
    "    def grass(self):\n",
    "        print('풀')\n",
    "\n",
    "\n",
    "\n",
    "class menu:\n",
    "    def __init__(self, mon):\n",
    "        self.mon = mon\n",
    "\n",
    "    def game(self):\n",
    "        flag = True\n",
    "        while flag:\n",
    "            menu = int(input('1.glow 2.health 3.eat 4.sleep 5.lvtest 6.feature 7.end'))\n",
    "            if menu == 1:\n",
    "                self.mon.glow()\n",
    "            if menu == 2:\n",
    "                flag = self.mon.health()\n",
    "            if menu == 3:\n",
    "                self.mon.eat()\n",
    "            if menu == 4:\n",
    "                self.mon.sleep()\n",
    "            if menu == 5:\n",
    "                self.mon.lvtest()\n",
    "            if menu == 6:\n",
    "                if isinstance(self.mon brocain):\n",
    "                    self.mon.fire()\n",
    "                elif isinstance(self.mon Liaco):\n",
    "                    self.mon.water()\n",
    "                elif isinstance(self.mon Chikorita):\n",
    "                    self.mon.grass()\n",
    "\n",
    "            elif menu == 7:\n",
    "                flag = False\n",
    "\n",
    "        if menu == '4' or menu == '3':\n",
    "            print('dead')\n",
    "\n",
    "        print('end')\n",
    "\n",
    "def main():\n",
    "    print('start')\n",
    "    m = input('select\\n1.brocain 2.Liaco 3.Chikorita')\n",
    "    if m == '1':\n",
    "        mon = brocain()\n",
    "    elif m == '2':\n",
    "        mon = Liaco()\n",
    "    elif m == '3':\n",
    "        mon = Chikorita()\n",
    "\n",
    "    mon.situation()\n",
    "    mm = Menu(mon)\n",
    "    mm.run()\n",
    "main()"
   ]
  },
  {
   "cell_type": "code",
   "execution_count": 58,
   "id": "8c618134-8601-458a-afdd-f781b887df24",
   "metadata": {},
   "outputs": [
    {
     "name": "stdout",
     "output_type": "stream",
     "text": [
      "현재 당신이 소유한 포켓몬은 3마리 입니다.\n",
      "안녕, 나는 치코리타이고, 풀이라는 특성을 가지고 있어.\n",
      "안녕, 나는 브케인이고, 화염이라는 특성을 가지고 있어.\n",
      "안녕, 나는 리아코이고, 물이라는 특성을 가지고 있어.\n"
     ]
    }
   ],
   "source": [
    "p1 = Pocketmon('치코리타', '풀')\n",
    "p2 = Pocketmon('브케인', '화염')\n",
    "p3 = Pocketmon('리아코', '물')\n",
    "\n",
    "print(Pocketmon.get_status())\n",
    "print(p1.greeting())\n",
    "\n",
    "print(p2.greeting())\n",
    "\n",
    "print(p3.greeting())"
   ]
  }
 ],
 "metadata": {
  "kernelspec": {
   "display_name": "Python 3 (ipykernel)",
   "language": "python",
   "name": "python3"
  },
  "language_info": {
   "codemirror_mode": {
    "name": "ipython",
    "version": 3
   },
   "file_extension": ".py",
   "mimetype": "text/x-python",
   "name": "python",
   "nbconvert_exporter": "python",
   "pygments_lexer": "ipython3",
   "version": "3.11.4"
  }
 },
 "nbformat": 4,
 "nbformat_minor": 5
}
